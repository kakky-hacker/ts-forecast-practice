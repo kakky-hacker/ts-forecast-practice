{
 "cells": [
  {
   "cell_type": "markdown",
   "id": "9fde7965-e078-4a9f-9be1-146797a7b5fd",
   "metadata": {},
   "source": [
    "## Installation"
   ]
  },
  {
   "cell_type": "code",
   "execution_count": null,
   "id": "59349f71-60c7-4a81-8f8e-224815c7e026",
   "metadata": {},
   "outputs": [],
   "source": [
    "%%writefile requirements.txt\n",
    "pandas\n",
    "pandas_datareader\n",
    "greykite"
   ]
  },
  {
   "cell_type": "code",
   "execution_count": null,
   "id": "c0f4b45a-da47-481d-9622-bd7cabe1858a",
   "metadata": {},
   "outputs": [],
   "source": [
    "%pip install -U --user -r requirements.txt"
   ]
  },
  {
   "cell_type": "markdown",
   "id": "b383e950-f149-4d10-a86f-58e855404c8c",
   "metadata": {},
   "source": [
    "## Import library"
   ]
  },
  {
   "cell_type": "code",
   "execution_count": null,
   "id": "ec96507b-a3bb-4ae3-b7aa-cac77d6f2fae",
   "metadata": {},
   "outputs": [],
   "source": [
    "import warnings\n",
    "import datetime\n",
    "import pandas_datareader.data as web\n",
    "import plotly\n",
    "import greykite\n",
    "from greykite.framework.input.univariate_time_series import UnivariateTimeSeries\n",
    "from greykite.algo.forecast.silverkite.forecast_simple_silverkite_helper import cols_interact\n",
    "from greykite.algo.forecast.silverkite.constants.silverkite_seasonality import SilverkiteSeasonalityEnum\n",
    "from greykite.algo.changepoint.adalasso.changepoint_detector import ChangepointDetector\n",
    "from greykite.algo.forecast.silverkite.constants.silverkite_column import SilverkiteColumn\n",
    "from greykite.common.features.timeseries_features import get_available_holidays_across_countries\n",
    "from greykite.framework.input.univariate_time_series import UnivariateTimeSeries\n",
    "from greykite.framework.templates.autogen.forecast_config import ForecastConfig, ComputationParam, ModelComponentsParam\n",
    "from greykite.framework.templates.autogen.forecast_config import MetadataParam\n",
    "from greykite.framework.templates.forecaster import Forecaster\n",
    "from greykite.framework.templates.model_templates import ModelTemplateEnum"
   ]
  },
  {
   "cell_type": "markdown",
   "id": "5af0cce0-1cea-4df9-8a67-47f898d80cbf",
   "metadata": {},
   "source": [
    "## Settings"
   ]
  },
  {
   "cell_type": "code",
   "execution_count": null,
   "id": "507070eb-ecdc-407f-9816-a94893fdea5b",
   "metadata": {},
   "outputs": [],
   "source": [
    "%matplotlib inline"
   ]
  },
  {
   "cell_type": "code",
   "execution_count": null,
   "id": "966d1bae-b14e-4fd1-8d9e-c122ceb25171",
   "metadata": {},
   "outputs": [],
   "source": [
    "warnings.simplefilter('ignore')"
   ]
  },
  {
   "cell_type": "markdown",
   "id": "aff8e125-1777-4209-a724-9ffc2831d7ae",
   "metadata": {},
   "source": [
    "## Fetch dataset"
   ]
  },
  {
   "cell_type": "code",
   "execution_count": null,
   "id": "617575b0-718a-4895-a27f-4fdf683a72c4",
   "metadata": {},
   "outputs": [],
   "source": [
    "start = datetime.date(2012,1,1)\n",
    "end = datetime.date.today()\n",
    "\n",
    "# TOYOTA(7203.JP)\n",
    "df = web.DataReader('7203.JP', 'stooq', start, end).sort_index()\n",
    "df.reset_index(inplace=True)\n",
    "\n",
    "df.head()"
   ]
  },
  {
   "cell_type": "markdown",
   "id": "4bdb87b5-9374-4ab7-bc42-023152edfdac",
   "metadata": {},
   "source": [
    "## Analyze timeseries"
   ]
  },
  {
   "cell_type": "markdown",
   "id": "d503938d-f8e9-4c36-9893-eed8d9825c9a",
   "metadata": {},
   "source": [
    "### Set target col"
   ]
  },
  {
   "cell_type": "code",
   "execution_count": null,
   "id": "783e2df7-6ede-4d6d-896d-24b35f9d287b",
   "metadata": {},
   "outputs": [],
   "source": [
    "time_col = \"Date\"\n",
    "value_col = \"Close\""
   ]
  },
  {
   "cell_type": "markdown",
   "id": "8c377c8f-a63b-42e3-a92b-8186df758d0e",
   "metadata": {},
   "source": [
    "### Convert dataframe to greykite timeseries"
   ]
  },
  {
   "cell_type": "code",
   "execution_count": null,
   "id": "033e762e-f2d8-4529-aaf5-a4fd17e5661c",
   "metadata": {},
   "outputs": [],
   "source": [
    "ts = UnivariateTimeSeries()\n",
    "ts.load_data(\n",
    "    df=df,\n",
    "    time_col=time_col,\n",
    "    value_col=value_col,\n",
    "    freq=\"D\",\n",
    ")"
   ]
  },
  {
   "cell_type": "markdown",
   "id": "71723653-1f11-4e71-9fdb-6a2202627b1f",
   "metadata": {},
   "source": [
    "### Plot original data and moving average"
   ]
  },
  {
   "cell_type": "code",
   "execution_count": null,
   "id": "1bff8cc8-6c40-4a43-a0ca-ace9735cc23a",
   "metadata": {},
   "outputs": [],
   "source": [
    "# original data\n",
    "fig = ts.plot()\n",
    "plotly.io.show(fig)\n",
    "\n",
    "# average per week\n",
    "fig = ts.plot_grouping_evaluation(\n",
    "    groupby_sliding_window_size=7,\n",
    "    title=\"Weekly average\")\n",
    "plotly.io.show(fig)\n",
    "\n",
    "# average per month\n",
    "fig = ts.plot_grouping_evaluation(\n",
    "    groupby_sliding_window_size=30,\n",
    "    title=\"Monthly average\")\n",
    "plotly.io.show(fig)"
   ]
  },
  {
   "cell_type": "markdown",
   "id": "4a72cce4-1684-4c82-99cd-14212c629cd9",
   "metadata": {},
   "source": [
    "### Plot quantiles"
   ]
  },
  {
   "cell_type": "code",
   "execution_count": null,
   "id": "ab649609-902b-4451-b8c9-328678037c8c",
   "metadata": {},
   "outputs": [],
   "source": [
    "# quantiles per week\n",
    "fig = ts.plot_quantiles_and_overlays(\n",
    "    groupby_time_feature=\"str_dow\",\n",
    "    show_mean=True,\n",
    "    show_quantiles=[],\n",
    "    center_values=True,\n",
    "    title=\"Quantiles per week\"\n",
    ")\n",
    "plotly.io.show(fig)\n",
    "\n",
    "# quantiles per year\n",
    "fig = ts.plot_quantiles_and_overlays(\n",
    "    groupby_time_feature=\"month\",\n",
    "    show_mean=True,\n",
    "    show_quantiles=[],\n",
    "    center_values=True,\n",
    "    title=\"Quantiles per year\"\n",
    ")\n",
    "plotly.io.show(fig)"
   ]
  },
  {
   "cell_type": "markdown",
   "id": "7eac16f9-a438-40fb-945e-63b36e39a562",
   "metadata": {},
   "source": [
    "### Plot trend and sesonality"
   ]
  },
  {
   "cell_type": "code",
   "execution_count": null,
   "id": "c091a425-2da2-4fb3-ac69-c9a009da8c87",
   "metadata": {},
   "outputs": [],
   "source": [
    "model = ChangepointDetector()\n",
    "\n",
    "# trend\n",
    "model.find_trend_changepoints(\n",
    "    df=df,\n",
    "    time_col=time_col,\n",
    "    value_col=value_col,\n",
    "    yearly_seasonality_order=15,\n",
    "    regularization_strength=0.1,\n",
    "    resample_freq=\"1D\",\n",
    "    potential_changepoint_n=30,\n",
    "    no_changepoint_distance_from_end=\"14D\",\n",
    "    actual_changepoint_min_distance=\"1D\",\n",
    ")\n",
    "\n",
    "# seasonality\n",
    "model.find_seasonality_changepoints(\n",
    "    df=df,\n",
    "    time_col=time_col,\n",
    "    value_col=value_col,\n",
    ")\n",
    "\n",
    "fig = model.plot(\n",
    "    observation=True,\n",
    "    trend_estimate=True,\n",
    "    adaptive_lasso_estimate=False,\n",
    "    trend_change=False,\n",
    "    seasonality_change=False,\n",
    "    yearly_seasonality_estimate=True,\n",
    "    seasonality_change_by_component=False,\n",
    "    seasonality_estimate=True,   \n",
    "    plot=False)\n",
    "\n",
    "plotly.io.show(fig)"
   ]
  },
  {
   "cell_type": "markdown",
   "id": "2fb85059-5ec7-43f7-b0c7-77e43eb0dd53",
   "metadata": {},
   "source": [
    "## Forecast"
   ]
  },
  {
   "cell_type": "markdown",
   "id": "cab958c5-17ca-4f95-895c-dba44ec9aa96",
   "metadata": {},
   "source": [
    "### Hyper Parameter setting"
   ]
  },
  {
   "cell_type": "code",
   "execution_count": null,
   "id": "e1549305-0ce9-4ce1-951c-c0a9447e4d3a",
   "metadata": {},
   "outputs": [],
   "source": [
    "metadata = MetadataParam(\n",
    "    time_col=time_col,\n",
    "    value_col=value_col,\n",
    "    freq='D',\n",
    ")\n",
    "\n",
    "growth = dict(growth_term=\"linear\")\n",
    "\n",
    "changepoints = {\n",
    "    \"changepoints_dict\": {\n",
    "        \"method\": \"auto\",\n",
    "        \"yearly_seasonality_order\": 15,\n",
    "        \"regularization_strength\": 0.1,\n",
    "        \"resample_freq\": \"1D\",\n",
    "        \"potential_changepoint_n\": 30,\n",
    "        \"no_changepoint_distance_from_end\": \"14D\",\n",
    "        \"actual_changepoint_min_distance\": \"1D\",\n",
    "    }\n",
    "}\n",
    "\n",
    "seasonality = dict(\n",
    "    yearly_seasonality=True,\n",
    "    quarterly_seasonality=False,\n",
    "    monthly_seasonality=False,\n",
    "    weekly_seasonality=True,\n",
    "    daily_seasonality=False,\n",
    ")\n",
    "\n",
    "autoreg_dict=\"auto\"\n",
    "\n",
    "model_components = ModelComponentsParam(\n",
    "    growth=growth,\n",
    "    changepoints=changepoints,\n",
    "    seasonality=seasonality,\n",
    "    autoregression=dict(autoreg_dict=autoreg_dict),\n",
    "    custom={\"fit_algorithm_dict\": {\"fit_algorithm\": \"gradient_boosting\"}},\n",
    ")"
   ]
  },
  {
   "cell_type": "markdown",
   "id": "bd527192-a967-410c-8641-5888453e2c96",
   "metadata": {},
   "source": [
    "### Forecast 1 year ahead"
   ]
  },
  {
   "cell_type": "code",
   "execution_count": null,
   "id": "2dd136f1-e7d3-4e7e-b432-a036c5eb4606",
   "metadata": {},
   "outputs": [],
   "source": [
    "forecaster = Forecaster()\n",
    "result = forecaster.run_forecast_config(\n",
    "    df=df,\n",
    "    config=ForecastConfig(\n",
    "        model_template=ModelTemplateEnum.SILVERKITE.name,\n",
    "        forecast_horizon=365,\n",
    "        coverage=0.95,\n",
    "        metadata_param=metadata,\n",
    "        model_components_param=model_components,\n",
    "    )\n",
    ")\n",
    "\n",
    "plotly.io.show(result.backtest.plot())\n",
    "print(\"RMSE :\", result.backtest.test_evaluation[\"RMSE\"])"
   ]
  },
  {
   "cell_type": "markdown",
   "id": "ea4b4672-2353-438b-b84e-ec252d10b104",
   "metadata": {},
   "source": [
    "### Forecast 2 year ahead"
   ]
  },
  {
   "cell_type": "code",
   "execution_count": null,
   "id": "0e920eaa-6ca6-4f4c-8f52-f49fc5b5bf40",
   "metadata": {},
   "outputs": [],
   "source": [
    "forecaster = Forecaster()\n",
    "result = forecaster.run_forecast_config(\n",
    "    df=df,\n",
    "    config=ForecastConfig(\n",
    "        model_template=ModelTemplateEnum.SILVERKITE.name,\n",
    "        forecast_horizon=365*2,\n",
    "        coverage=0.95,\n",
    "        metadata_param=metadata,\n",
    "        model_components_param=model_components,\n",
    "    )\n",
    ")\n",
    "\n",
    "plotly.io.show(result.backtest.plot())\n",
    "print(\"RMSE :\", result.backtest.test_evaluation[\"RMSE\"])"
   ]
  }
 ],
 "metadata": {
  "kernelspec": {
   "display_name": "Python 3 (ipykernel)",
   "language": "python",
   "name": "python3"
  },
  "language_info": {
   "codemirror_mode": {
    "name": "ipython",
    "version": 3
   },
   "file_extension": ".py",
   "mimetype": "text/x-python",
   "name": "python",
   "nbconvert_exporter": "python",
   "pygments_lexer": "ipython3",
   "version": "3.8.10"
  }
 },
 "nbformat": 4,
 "nbformat_minor": 5
}
